{
 "cells": [
  {
   "cell_type": "code",
   "execution_count": 1,
   "metadata": {},
   "outputs": [],
   "source": [
    "# Import the data\n",
    "import json\n",
    "import os\n",
    "data_folder = os.path.join(os.getcwd(), \"job_data\", \"indeed_jds_by_doc.json\")\n",
    "indeed = json.load(open(data_folder, \"r\"))"
   ]
  },
  {
   "cell_type": "code",
   "execution_count": 2,
   "metadata": {},
   "outputs": [
    {
     "name": "stdout",
     "output_type": "stream",
     "text": [
      "0: ng, maintenance and communication of logical and p\n",
      "1: le for creation and communication of data architec\n",
      "2: es, development and communication of best practice\n",
      "3:  verbal and written communication skills and exper\n"
     ]
    }
   ],
   "source": [
    "# Explore the data\n",
    "import re\n",
    "job_list = indeed['job_descriptions']\n",
    "for index, string_with_matchword in enumerate(re.findall('.{20}communicat.{20}', job_list[0].lower())):\n",
    "    print(''.join([str(index),': ', string_with_matchword]))"
   ]
  },
  {
   "cell_type": "code",
   "execution_count": 3,
   "metadata": {},
   "outputs": [
    {
     "name": "stderr",
     "output_type": "stream",
     "text": [
      "[nltk_data] Downloading package punkt to\n",
      "[nltk_data]     C:\\Users\\57luu\\AppData\\Roaming\\nltk_data...\n",
      "[nltk_data]   Package punkt is already up-to-date!\n",
      "[nltk_data] Downloading package wordnet to\n",
      "[nltk_data]     C:\\Users\\57luu\\AppData\\Roaming\\nltk_data...\n",
      "[nltk_data]   Package wordnet is already up-to-date!\n"
     ]
    }
   ],
   "source": [
    "# Tokenize with nltk\n",
    "import nltk\n",
    "nltk.download('punkt')\n",
    "from nltk.tokenize import word_tokenize\n",
    "\n",
    "# Stemming\n",
    "from nltk.stem import WordNetLemmatizer, PorterStemmer\n",
    "stemmer = PorterStemmer()\n",
    "\n",
    "# Lemmatization\n",
    "import nltk\n",
    "nltk.download('wordnet')\n",
    "lemmatizer = WordNetLemmatizer()\n",
    "\n",
    "# Stop word\n",
    "from nltk.corpus import stopwords\n",
    "en_sw = set(stopwords.words('english'))\n"
   ]
  },
  {
   "cell_type": "code",
   "execution_count": 4,
   "metadata": {},
   "outputs": [
    {
     "name": "stderr",
     "output_type": "stream",
     "text": [
      "C:\\Users\\57luu\\Anaconda3\\lib\\site-packages\\sklearn\\feature_extraction\\text.py:300: UserWarning: Your stop_words may be inconsistent with your preprocessing. Tokenizing the stop words generated tokens [\"'d\", \"'ll\", \"'re\", \"'s\", \"'ve\", 'could', 'might', 'must', \"n't\", 'need', 'sha', 'wo', 'would'] not in stop_words.\n",
      "  'stop_words.' % sorted(inconsistent))\n"
     ]
    }
   ],
   "source": [
    "# Create bag of words COUNT with customized sklearn\n",
    "from sklearn.feature_extraction.text import CountVectorizer\n",
    "vectorizer = CountVectorizer(stop_words=en_sw, tokenizer=word_tokenize)\n",
    "analyzer = vectorizer.build_analyzer()\n",
    "\n",
    "def stem_analyzer(doc):\n",
    "    return [stemmer.stem(w) for w in analyzer(doc)]\n",
    "\n",
    "stem_vectorizer = CountVectorizer(analyzer=stem_analyzer)\n",
    "bow_skl = stem_vectorizer.fit_transform(indeed[\"job_descriptions\"])\n",
    "freq_skl = bow_skl.toarray()\n",
    "feature_name = stem_vectorizer.get_feature_names()"
   ]
  },
  {
   "cell_type": "code",
   "execution_count": 16,
   "metadata": {},
   "outputs": [
    {
     "name": "stdout",
     "output_type": "stream",
     "text": [
      "[',', '.', ':', 'work', 'experi', 'data', ')', '(', 'manag', 'team', 'develop', 'requir', 'product', '’', 'design', 'busi', 'year', 'includ', 'new', '--', 'commun', 'skill', 'engin', ';', 'compani', 'support', 'applic', 'build', 'use', 'process']\n"
     ]
    }
   ],
   "source": [
    "# Explore the top words by counts\n",
    "import numpy as np\n",
    "word_name = feature_name\n",
    "word_count = np.sum(freq_skl, axis=0)\n",
    "index_sort = np.argsort(word_count)\n",
    "top_index = index_sort[-30:]\n",
    "top_word = [word_name[ind] for ind in top_index[::-1]]\n",
    "print(top_word)"
   ]
  },
  {
   "cell_type": "code",
   "execution_count": 12,
   "metadata": {},
   "outputs": [],
   "source": [
    "# Create bag of words TFIDF with customized sklearn\n",
    "from sklearn.feature_extraction.text import TfidfVectorizer\n",
    "\n",
    "tfidf_vectorizer = TfidfVectorizer(analyzer=stem_analyzer)\n",
    "tfidf_skl = tfidf_vectorizer.fit_transform(indeed['job_descriptions'])\n",
    "tokens = tfidf_vectorizer.get_feature_names()"
   ]
  },
  {
   "cell_type": "code",
   "execution_count": 17,
   "metadata": {},
   "outputs": [
    {
     "name": "stdout",
     "output_type": "stream",
     "text": [
      "[',', '.', ':', 'data', 'work', 'experi', ')', '(', 'manag', 'team', 'product', 'develop', 'design', '’', 'busi', 'requir', '--', 'engin', ';', 'year', 'skill', 'new', 'includ', 'project', 'compani', 'test', 'commun', 'build', 'applic', 'market']\n"
     ]
    }
   ],
   "source": [
    "# Explore the top words by tfidf\n",
    "import numpy as np\n",
    "word_name = tokens\n",
    "word_count = np.sum(tfidf_skl.toarray(), axis=0)\n",
    "index_sort = np.argsort(word_count)\n",
    "top_index = index_sort[-30:]\n",
    "top_word = [word_name[ind] for ind in top_index[::-1]]\n",
    "print(top_word)"
   ]
  },
  {
   "cell_type": "code",
   "execution_count": 30,
   "metadata": {},
   "outputs": [],
   "source": [
    "############## Preprocess the data ##############\n",
    "from sklearn import preprocessing\n",
    "from sklearn.model_selection import train_test_split\n",
    "from sklearn.preprocessing import StandardScaler\n",
    "\n",
    "# Extract training and testing dataset\n",
    "feature_mat = tfidf_skl.toarray()\n",
    "le = preprocessing.LabelEncoder()\n",
    "le.fit(list(set(indeed['labels'])))\n",
    "target_encode = le.transform(indeed['labels'])\n",
    "\n",
    "# Split train and test set\n",
    "X_train, X_test, y_train, y_test = train_test_split(feature_mat, target_encode, random_state=0)\n",
    "\n",
    "# Scale the features\n",
    "scaler = StandardScaler()\n",
    "scaler.fit(X_train)\n",
    "X_train_scaled = scaler.transform(X_train)\n",
    "X_test_scaled = scaler.transform(X_test)"
   ]
  },
  {
   "cell_type": "code",
   "execution_count": null,
   "metadata": {},
   "outputs": [],
   "source": [
    "# Check the encoding\n",
    "print(set(indeed['labels']))\n",
    "for label, code in zip(indeed['labels'][100:120], target_encode[100:120]):\n",
    "    print(\"{}: {}\".format(label, code))"
   ]
  },
  {
   "cell_type": "code",
   "execution_count": 31,
   "metadata": {},
   "outputs": [
    {
     "data": {
      "text/plain": [
       "RandomForestClassifier(bootstrap=True, class_weight=None, criterion='gini',\n",
       "                       max_depth=None, max_features='auto', max_leaf_nodes=None,\n",
       "                       min_impurity_decrease=0.0, min_impurity_split=None,\n",
       "                       min_samples_leaf=1, min_samples_split=2,\n",
       "                       min_weight_fraction_leaf=0.0, n_estimators=100, n_jobs=8,\n",
       "                       oob_score=False, random_state=None, verbose=0,\n",
       "                       warm_start=False)"
      ]
     },
     "execution_count": 31,
     "metadata": {},
     "output_type": "execute_result"
    }
   ],
   "source": [
    "# Fit random forest\n",
    "from sklearn.ensemble import RandomForestClassifier\n",
    "random_cf = RandomForestClassifier(n_estimators=100, n_jobs=8)\n",
    "random_cf.fit(X_train_scaled, y_train)\n",
    "\n",
    "# Find the score\n",
    "random_cf.score(X_test_scaled, y_test)"
   ]
  },
  {
   "cell_type": "code",
   "execution_count": 64,
   "metadata": {},
   "outputs": [
    {
     "name": "stdout",
     "output_type": "stream",
     "text": [
      "Fitting 10 folds for each of 12 candidates, totalling 120 fits\n"
     ]
    },
    {
     "name": "stderr",
     "output_type": "stream",
     "text": [
      "[Parallel(n_jobs=8)]: Using backend LokyBackend with 8 concurrent workers.\n",
      "[Parallel(n_jobs=8)]: Done   2 tasks      | elapsed:   56.1s\n",
      "[Parallel(n_jobs=8)]: Done  56 tasks      | elapsed:  8.0min\n",
      "[Parallel(n_jobs=8)]: Done 120 out of 120 | elapsed: 18.1min finished\n",
      "C:\\Users\\57luu\\Anaconda3\\lib\\site-packages\\sklearn\\model_selection\\_search.py:813: DeprecationWarning: The default of the `iid` parameter will change from True to False in version 0.22 and will be removed in 0.24. This will change numeric results when test-set sizes are unequal.\n",
      "  DeprecationWarning)\n"
     ]
    },
    {
     "data": {
      "text/plain": [
       "GridSearchCV(cv=10, error_score='raise-deprecating',\n",
       "             estimator=RandomForestClassifier(bootstrap=True, class_weight=None,\n",
       "                                              criterion='gini', max_depth=None,\n",
       "                                              max_features='auto',\n",
       "                                              max_leaf_nodes=None,\n",
       "                                              min_impurity_decrease=0.0,\n",
       "                                              min_impurity_split=None,\n",
       "                                              min_samples_leaf=1,\n",
       "                                              min_samples_split=2,\n",
       "                                              min_weight_fraction_leaf=0.0,\n",
       "                                              n_estimators='warn', n_jobs=None,\n",
       "                                              oob_score=False, random_state=0,\n",
       "                                              verbose=0, warm_start=False),\n",
       "             iid='warn', n_jobs=8,\n",
       "             param_grid={'max_depth': [30, 35, 40, 45],\n",
       "                         'n_estimators': [350, 400, 450]},\n",
       "             pre_dispatch='2*n_jobs', refit=True, return_train_score=False,\n",
       "             scoring=None, verbose=5)"
      ]
     },
     "execution_count": 64,
     "metadata": {},
     "output_type": "execute_result"
    }
   ],
   "source": [
    "# Try grid search on random forest\n",
    "from sklearn.model_selection import GridSearchCV\n",
    "\n",
    "n_estimators = [350, 400, 450]\n",
    "max_depth = [30, 35, 40, 45]\n",
    "param_grid = {'n_estimators': n_estimators, 'max_depth': max_depth}\n",
    "grid = GridSearchCV(RandomForestClassifier(random_state=0), param_grid=param_grid, cv=10, n_jobs=8, verbose=5)\n",
    "grid.fit(np.concatenate((X_train_scaled, X_test_scaled), axis=0), np.concatenate((y_train, y_test), axis=0))\n"
   ]
  },
  {
   "cell_type": "code",
   "execution_count": 65,
   "metadata": {},
   "outputs": [
    {
     "data": {
      "image/png": "[encoded data removed]",
      "text/plain": [
       "<Figure size 288x384 with 2 Axes>"
      ]
     },
     "metadata": {
      "needs_background": "light"
     },
     "output_type": "display_data"
    }
   ],
   "source": [
    "from matplotlib import pyplot as plt\n",
    "scores = grid.cv_results_['mean_test_score']\n",
    "scores = np.array(scores).reshape(len(max_depth), len(n_estimators))\n",
    "\n",
    "plt.matshow(scores)\n",
    "plt.xlabel('n_estimators')\n",
    "plt.ylabel('max_depth')\n",
    "plt.colorbar()\n",
    "plt.yticks(np.arange(len(max_depth)), param_grid['max_depth'])\n",
    "plt.xticks(np.arange(len(n_estimators)), param_grid['n_estimators'])\n",
    "plt.show()"
   ]
  },
  {
   "cell_type": "code",
   "execution_count": 66,
   "metadata": {},
   "outputs": [
    {
     "data": {
      "text/plain": [
       "array([[0.80493593, 0.81158045, 0.8087328 ],\n",
       "       [0.80825819, 0.80825819, 0.80256289],\n",
       "       [0.81063123, 0.8087328 , 0.80968201],\n",
       "       [0.8087328 , 0.80968201, 0.81015662]])"
      ]
     },
     "execution_count": 66,
     "metadata": {},
     "output_type": "execute_result"
    }
   ],
   "source": [
    "scores"
   ]
  },
  {
   "cell_type": "code",
   "execution_count": 81,
   "metadata": {},
   "outputs": [
    {
     "name": "stderr",
     "output_type": "stream",
     "text": [
      "[Parallel(n_jobs=8)]: Using backend LokyBackend with 8 concurrent workers.\n",
      "[Parallel(n_jobs=8)]: Done   1 out of   1 | elapsed: 12.9min finished\n"
     ]
    },
    {
     "data": {
      "text/plain": [
       "0.6869070208728653"
      ]
     },
     "execution_count": 81,
     "metadata": {},
     "output_type": "execute_result"
    }
   ],
   "source": [
    "# Fit logistic regression\n",
    "from sklearn.linear_model import LogisticRegression\n",
    "lr_cf = LogisticRegression(multi_class='multinomial', n_jobs=8, solver='lbfgs', verbose=5, C=0.1)\n",
    "lr_cf.fit(X_train_scaled, y_train)\n",
    "\n",
    "# Find the score\n",
    "lr_cf.score(X_test_scaled, y_test)"
   ]
  },
  {
   "cell_type": "code",
   "execution_count": 69,
   "metadata": {},
   "outputs": [
    {
     "name": "stdout",
     "output_type": "stream",
     "text": [
      "Fitting 10 folds for each of 3 candidates, totalling 30 fits\n"
     ]
    },
    {
     "name": "stderr",
     "output_type": "stream",
     "text": [
      "[Parallel(n_jobs=8)]: Using backend LokyBackend with 8 concurrent workers.\n",
      "[Parallel(n_jobs=8)]: Done   2 tasks      | elapsed: 52.0min\n",
      "[Parallel(n_jobs=8)]: Done  22 out of  30 | elapsed: 179.4min remaining: 65.2min\n",
      "[Parallel(n_jobs=8)]: Done  30 out of  30 | elapsed: 220.9min finished\n",
      "C:\\Users\\57luu\\Anaconda3\\lib\\site-packages\\sklearn\\model_selection\\_search.py:813: DeprecationWarning: The default of the `iid` parameter will change from True to False in version 0.22 and will be removed in 0.24. This will change numeric results when test-set sizes are unequal.\n",
      "  DeprecationWarning)\n",
      "C:\\Users\\57luu\\Anaconda3\\lib\\site-packages\\sklearn\\linear_model\\logistic.py:432: FutureWarning: Default solver will be changed to 'lbfgs' in 0.22. Specify a solver to silence this warning.\n",
      "  FutureWarning)\n",
      "C:\\Users\\57luu\\Anaconda3\\lib\\site-packages\\sklearn\\linear_model\\logistic.py:469: FutureWarning: Default multi_class will be changed to 'auto' in 0.22. Specify the multi_class option to silence this warning.\n",
      "  \"this warning.\", FutureWarning)\n"
     ]
    },
    {
     "data": {
      "text/plain": [
       "GridSearchCV(cv=10, error_score='raise-deprecating',\n",
       "             estimator=LogisticRegression(C=1.0, class_weight=None, dual=False,\n",
       "                                          fit_intercept=True,\n",
       "                                          intercept_scaling=1, l1_ratio=None,\n",
       "                                          max_iter=100, multi_class='warn',\n",
       "                                          n_jobs=None, penalty='l2',\n",
       "                                          random_state=0, solver='warn',\n",
       "                                          tol=0.0001, verbose=0,\n",
       "                                          warm_start=False),\n",
       "             iid='warn', n_jobs=8, param_grid={'C': [350, 400, 450]},\n",
       "             pre_dispatch='2*n_jobs', refit=True, return_train_score=False,\n",
       "             scoring=None, verbose=5)"
      ]
     },
     "execution_count": 69,
     "metadata": {},
     "output_type": "execute_result"
    }
   ],
   "source": [
    "# Try grid search on logistic regression\n",
    "inverse_regularization = [0.1, 1, 10]\n",
    "\n",
    "param_grid = {'C': inverse_regularization}\n",
    "grid = GridSearchCV(LogisticRegression(random_state=0), param_grid=param_grid, cv=10, n_jobs=8, verbose=5)\n",
    "grid.fit(np.concatenate((X_train_scaled, X_test_scaled), axis=0), np.concatenate((y_train, y_test), axis=0))\n"
   ]
  },
  {
   "cell_type": "code",
   "execution_count": null,
   "metadata": {},
   "outputs": [],
   "source": [
    "plt.figure(figsize=(10, 10))\n",
    "ind_x = range(len(inverse_regularization))\n",
    "plt.plot(ind_x, grid.cv_results_['mean_test_score'])\n",
    "plt.xticks(ind_x, param_grid['C'])\n",
    "plt.xlabel('Inverse regularization')\n",
    "plt.ylabel('Mean test score')\n",
    "plt.show()"
   ]
  },
  {
   "cell_type": "code",
   "execution_count": 72,
   "metadata": {},
   "outputs": [
    {
     "data": {
      "text/plain": [
       "0.6129032258064516"
      ]
     },
     "execution_count": 72,
     "metadata": {},
     "output_type": "execute_result"
    }
   ],
   "source": [
    "# Fit Naive Bayes\n",
    "from sklearn.naive_bayes import MultinomialNB\n",
    "mnb_cf = MultinomialNB()\n",
    "mnb_cf.fit(X_train, y_train)\n",
    "\n",
    "# Find the score\n",
    "mnb_cf.score(X_test, y_test)"
   ]
  },
  {
   "cell_type": "code",
   "execution_count": 77,
   "metadata": {},
   "outputs": [
    {
     "name": "stdout",
     "output_type": "stream",
     "text": [
      "Fitting 10 folds for each of 6 candidates, totalling 60 fits\n"
     ]
    },
    {
     "name": "stderr",
     "output_type": "stream",
     "text": [
      "[Parallel(n_jobs=8)]: Using backend LokyBackend with 8 concurrent workers.\n",
      "[Parallel(n_jobs=8)]: Done   2 tasks      | elapsed:    3.9s\n",
      "[Parallel(n_jobs=8)]: Done  58 out of  60 | elapsed:   20.0s remaining:    0.6s\n",
      "[Parallel(n_jobs=8)]: Done  60 out of  60 | elapsed:   20.1s finished\n",
      "C:\\Users\\57luu\\Anaconda3\\lib\\site-packages\\sklearn\\model_selection\\_search.py:813: DeprecationWarning: The default of the `iid` parameter will change from True to False in version 0.22 and will be removed in 0.24. This will change numeric results when test-set sizes are unequal.\n",
      "  DeprecationWarning)\n"
     ]
    },
    {
     "data": {
      "text/plain": [
       "GridSearchCV(cv=10, error_score='raise-deprecating',\n",
       "             estimator=MultinomialNB(alpha=1.0, class_prior=None,\n",
       "                                     fit_prior=True),\n",
       "             iid='warn', n_jobs=8,\n",
       "             param_grid={'alpha': [0.1, 1, 10], 'fit_prior': ['True', 'False']},\n",
       "             pre_dispatch='2*n_jobs', refit=True, return_train_score=False,\n",
       "             scoring=None, verbose=5)"
      ]
     },
     "execution_count": 77,
     "metadata": {},
     "output_type": "execute_result"
    }
   ],
   "source": [
    "# Try grid search on Naive Bayes\n",
    "alpha = [0.1, 1, 10]\n",
    "use_prior = ['True', 'False']\n",
    "param_grid = {'alpha': alpha, 'fit_prior': use_prior}\n",
    "grid = GridSearchCV(MultinomialNB(), param_grid=param_grid, cv=10, n_jobs=8, verbose=5)\n",
    "grid.fit(np.concatenate((X_train, X_test), axis=0), np.concatenate((y_train, y_test), axis=0))\n"
   ]
  },
  {
   "cell_type": "code",
   "execution_count": 80,
   "metadata": {},
   "outputs": [
    {
     "data": {
      "image/png": "[encoded data removed]",
      "text/plain": [
       "<Figure size 720x360 with 1 Axes>"
      ]
     },
     "metadata": {
      "needs_background": "light"
     },
     "output_type": "display_data"
    }
   ],
   "source": [
    "score_mnb = np.reshape(grid.cv_results_['mean_test_score'], (2, len(alpha)))\n",
    "plt.figure(figsize=(10, 5))\n",
    "ind_x = range(len(alpha))\n",
    "plt.plot(ind_x, score_mnb[0, :], label='with prior')\n",
    "plt.plot(ind_x, score_mnb[1, :], label='no prior')\n",
    "plt.xticks(ind_x, alpha)\n",
    "plt.xlabel('alpha')\n",
    "plt.ylabel('Mean test score')\n",
    "plt.legend()\n",
    "plt.show()"
   ]
  },
  {
   "cell_type": "code",
   "execution_count": 83,
   "metadata": {},
   "outputs": [
    {
     "name": "stderr",
     "output_type": "stream",
     "text": [
      "C:\\Users\\57luu\\Anaconda3\\lib\\site-packages\\sklearn\\svm\\base.py:193: FutureWarning: The default value of gamma will change from 'auto' to 'scale' in version 0.22 to account better for unscaled features. Set gamma explicitly to 'auto' or 'scale' to avoid this warning.\n",
      "  \"avoid this warning.\", FutureWarning)\n"
     ]
    },
    {
     "data": {
      "text/plain": [
       "0.5616698292220114"
      ]
     },
     "execution_count": 83,
     "metadata": {},
     "output_type": "execute_result"
    }
   ],
   "source": [
    "# Fit SVM\n",
    "from sklearn import svm\n",
    "svm_cf = svm.SVC(decision_function_shape='ovr', n_jobs=6)\n",
    "svm_cf.fit(X_train_scaled, y_train)\n",
    "\n",
    "# Find the score\n",
    "svm_cf.score(X_test_scaled, y_test)"
   ]
  }
 ],
 "metadata": {
  "kernelspec": {
   "display_name": "Python 3",
   "language": "python",
   "name": "python3"
  },
  "language_info": {
   "codemirror_mode": {
    "name": "ipython",
    "version": 3
   },
   "file_extension": ".py",
   "mimetype": "text/x-python",
   "name": "python",
   "nbconvert_exporter": "python",
   "pygments_lexer": "ipython3",
   "version": "3.7.3"
  }
 },
 "nbformat": 4,
 "nbformat_minor": 2
}
