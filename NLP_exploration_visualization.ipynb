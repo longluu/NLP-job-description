{
 "cells": [
  {
   "cell_type": "code",
   "execution_count": 3,
   "metadata": {},
   "outputs": [],
   "source": [
    "# Try small data file first (only data science jobs)\n",
    "import json\n",
    "import os\n",
    "data_folder = os.path.join(os.getcwd(), \"job_data\", \"indeed_job_descs_data+scientist.json\")\n",
    "indeed = json.load(open(data_folder, \"r\"))"
   ]
  },
  {
   "cell_type": "code",
   "execution_count": 6,
   "metadata": {},
   "outputs": [
    {
     "name": "stdout",
     "output_type": "stream",
     "text": [
      "Data type<class 'dict'>\n",
      "Key valuesdict_keys(['job_descriptions', 'request_params'])\n",
      "Appearance of word 'python' in first doc:True\n",
      "Number of docs:79\n"
     ]
    }
   ],
   "source": [
    "# Explore the loaded data\n",
    "print(\"Data type: \" + str(type(indeed)))\n",
    "print(\"Key values: \" + str(indeed.keys()))\n",
    "jd_demo = indeed['job_descriptions'][0]\n",
    "is_exist = \"python\" in jd_demo.lower()\n",
    "print(\"Appearance of word 'python' in first doc: \" + str(is_exist))\n",
    "print(\"Number of docs: \" + str(len(indeed['job_descriptions'])))"
   ]
  },
  {
   "cell_type": "code",
   "execution_count": 7,
   "metadata": {},
   "outputs": [
    {
     "data": {
      "text/plain": [
       "{'A'}"
      ]
     },
     "execution_count": 7,
     "metadata": {},
     "output_type": "execute_result"
    }
   ],
   "source": [
    "# Regular expression tool\n",
    "import re\n",
    "set(re.findall(\"^\\w\", indeed['job_descriptions'][0]))"
   ]
  },
  {
   "cell_type": "code",
   "execution_count": 13,
   "metadata": {
    "scrolled": true
   },
   "outputs": [
    {
     "name": "stdout",
     "output_type": "stream",
     "text": [
      "0: ing skills (such as python or scala), experien\n"
     ]
    }
   ],
   "source": [
    "# Find a word in doc\n",
    "job_list = indeed['job_descriptions']\n",
    "for index, string_with_R in enumerate(re.findall('.{20}python.{20}', job_list[3].lower())):\n",
    "    print(''.join([str(index),': ', string_with_R]))"
   ]
  },
  {
   "cell_type": "code",
   "execution_count": 14,
   "metadata": {},
   "outputs": [
    {
     "name": "stdout",
     "output_type": "stream",
     "text": [
      "####### Method 1 #######\n",
      "Mention of R: 45\n",
      "Mention of Python: 61\n",
      "\n",
      "\n",
      "####### Method 2 #######\n",
      "Mention of R: 46\n",
      "Mention of Python: 61\n"
     ]
    }
   ],
   "source": [
    "# Manual counting words in all docs\n",
    "from collections import defaultdict\n",
    "import re\n",
    "match_dict_1 = defaultdict(list)\n",
    "count_word = [0, 0]\n",
    "######## Method 1 ########\n",
    "for job_description in indeed['job_descriptions']:\n",
    "    # Match R\n",
    "    list_match = re.findall(\".{0,20}[ ,\\n(.]R[ ,\\n).].{0,20}\", job_description)\n",
    "    if len(list_match) > 0:\n",
    "        count_word[0] = count_word[0] + 1\n",
    "        match_dict_1['R'].append(list_match)\n",
    "        \n",
    "    # Match Python\n",
    "    list_match = re.findall(\".{0,20}[ ,\\n(.]python[ ,\\n).].{0,20}\", job_description.lower())\n",
    "    if len(list_match) > 0:\n",
    "        count_word[1] = count_word[1] + 1   \n",
    "        match_dict_1['Python'].append(list_match)\n",
    "        \n",
    "print(\"####### Method 1 #######\")        \n",
    "print(''.join([\"Mention of R: \", str(count_word[0])]))        \n",
    "print(''.join([\"Mention of Python: \", str(count_word[1])]))        \n",
    "\n",
    "######## Method 2 ########\n",
    "match_dict_2 = defaultdict(list)\n",
    "count_word = [0, 0]\n",
    "for job_description in indeed['job_descriptions']:\n",
    "    # Match R\n",
    "    list_match = re.findall(\".{0,20}[^\\w]R[^\\w].{0,20}\", job_description)\n",
    "    if len(list_match) > 0:\n",
    "        count_word[0] = count_word[0] + 1\n",
    "        match_dict_2['R'].append(list_match)\n",
    "        \n",
    "    # Match Python\n",
    "    list_match = re.findall(\".{0,20}[^\\w]python[^\\w].{0,20}\", job_description.lower())\n",
    "    if len(list_match) > 0:\n",
    "        count_word[1] = count_word[1] + 1 \n",
    "        match_dict_2['Python'].append(list_match)\n",
    "        \n",
    "print('\\n')        \n",
    "print(\"####### Method 2 #######\")        \n",
    "print(''.join([\"Mention of R: \", str(count_word[0])]))        \n",
    "print(''.join([\"Mention of Python: \", str(count_word[1])]))        "
   ]
  },
  {
   "cell_type": "code",
   "execution_count": 15,
   "metadata": {},
   "outputs": [
    {
     "name": "stdout",
     "output_type": "stream",
     "text": [
      "['s of experience with python programming language']\n",
      "['gramming in r and/or python.', 've knowledge in r or python data analysis.']\n",
      "['ding skills (such as python or scala), experienc']\n",
      "[' other tools such as python or ryou have a stron']\n",
      "['good command of r or python and their popular pa']\n",
      "['oducts using sql, r, python, oracle, redshift an']\n",
      "[' athena, databricks, python, r, mode analytics, ']\n",
      "['ce as a programmer - python, perl, java, and/or ']\n",
      "['knowledge of python, r, matlab & other m']\n",
      "[' other tools such as python or ryou have a stron']\n",
      "['ormation package (r, python, alteryx)', 'g, web analytics and python scripting']\n",
      "[' analysis using r or python (numpy, scipy, matpl']\n",
      "['ence (2+ years) with python or rability to effec']\n",
      "['well versed in python or r (and willingnes', 'ontinue to learn the python ecosystem)']\n",
      "['opment experience in python experience and or fa']\n",
      "['software, e.g., r or python\\nexperience working w']\n",
      "['tools for analysis - python (with pandas, etc.),']\n",
      "[' are proficient with python, r, sql, and microso']\n",
      "['sformation (e.g., r, python, sql) is critical. t']\n",
      "['eep familiarity with python and r;a reviewable p']\n",
      "['languages such as r, python and sql']\n",
      "['ogramming languages (python, perl, etc)']\n",
      "['mputer languages: r, python, slq, etc.experience', 'mputer languages (r, python, slq, etc.) to manip']\n",
      "[' other tools such as python or ryou have a stron']\n",
      "['languages such as r, python and sql']\n",
      "['technical python required.']\n",
      "['database (e.g., python, sql, cognos)']\n",
      "['erience working with python or r to manipulate a']\n",
      "['ability to work in python, java, c++']\n",
      "['stical packages like python, r, matlab, or sas', 'g production-quality python code is a plus']\n",
      "['ing language such as python\\nworking knowledge of']\n",
      "['ng languages such as python and r. experience wi']\n",
      "['nsforming data using python.', 'proficiency in python\\nwillingness to trave', 'he following skills:\\npython\\ndata science']\n",
      "['s of experience with python programming language']\n",
      "['mputer languages: r, python, slq, etc.experience', 'mputer languages (r, python, slq, etc.) to manip']\n",
      "[' other tools such as python or ryou have a stron']\n",
      "['experience in r, python, and sql, etc. and i']\n",
      "['stical packages like python, r, matlab, or sas', 'g production-quality python code is a plus']\n",
      "['ing language such as python\\nworking knowledge of']\n",
      "['experience with python\\nknowledge of some of']\n",
      "['in languages such as python, r, etc.']\n",
      "['trong skills in sql, python, and data science ec']\n",
      "['lopment skills using python\\nhybrid at your core ']\n",
      "['fluent in python and sql']\n",
      "['ng languages such as python (preferred) or r (es']\n",
      "[' writing code (e.g., python, pytorch, sql) and t', ' have regularly used python and sql to extract d']\n",
      "['ic techniques, r and python programming language', 'lingleverage sql and python consistentlywork wit', 'cel, coding (sql, r, python), data management pr', 'ence:coding (sql, r, python): 5 years (required)']\n",
      "[' using tools such as python modules including pa', \"ars' experience with python and its open-source \"]\n",
      "['mplex data with sql, python, and/or r.']\n",
      "['ut comfort in either python or r is a must, as i']\n",
      "['experience with r or python and comfort with dat']\n",
      "['fluent in python and sql']\n",
      "['ipelines via sql and python based etl framework', 'pting language (php, python, perl, etc.)']\n",
      "[' high proficiency in python or r, and sql']\n",
      "['fluency in python or r, or similar ana']\n",
      "['ic techniques, r and python programming language', 'lingleverage sql and python consistentlywork wit', 'cel, coding (sql, r, python), data management pr', 'ence:coding (sql, r, python): 5 years (required)']\n",
      "['gramming in r and/or python.', 've knowledge in r or python data analysis.']\n",
      "['mputer languages: r, python, slq, etc.experience', 'mputer languages (r, python, slq, etc.) to manip']\n",
      "['experience in r, python, and sql, etc. and i']\n",
      "['ic techniques, r and python programming language', 'lingleverage sql and python consistentlywork wit', 'cel, coding (sql, r, python), data management pr', 'ence:coding (sql, r, python): 5 years (required)']\n",
      "[' other tools such as python or ryou have a stron']\n"
     ]
    }
   ],
   "source": [
    "# Check the found matched words in all docs\n",
    "for match_str in match_dict_1['Python']:\n",
    "    print(match_str)"
   ]
  },
  {
   "cell_type": "code",
   "execution_count": 17,
   "metadata": {},
   "outputs": [
    {
     "name": "stderr",
     "output_type": "stream",
     "text": [
      "[nltk_data] Downloading package punkt to\n",
      "[nltk_data]     C:\\Users\\57luu\\AppData\\Roaming\\nltk_data...\n",
      "[nltk_data]   Package punkt is already up-to-date!\n"
     ]
    },
    {
     "data": {
      "text/plain": [
       "True"
      ]
     },
     "execution_count": 17,
     "metadata": {},
     "output_type": "execute_result"
    }
   ],
   "source": [
    "# Use NLP library\n",
    "import nltk\n",
    "nltk.download('punkt')"
   ]
  },
  {
   "cell_type": "code",
   "execution_count": 25,
   "metadata": {},
   "outputs": [
    {
     "name": "stdout",
     "output_type": "stream",
     "text": [
      "Whole doc: \n",
      "ABOUT HOPPER\n",
      "\n",
      "At Hopper, we’re on a mission to make booking travel faster, easier, and more transparent. We are leveraging the power that comes from c\n",
      "\n",
      "Tokenized doc: \n",
      "['ABOUT', 'HOPPER', 'At', 'Hopper', ',', 'we', '’', 're', 'on', 'a', 'mission', 'to', 'make', 'booking', 'travel', 'faster', ',', 'easier', ',', 'and', 'more', 'transparent', '.', 'We', 'are', 'leveraging', 'the', 'power', 'that', 'comes']\n"
     ]
    }
   ],
   "source": [
    "# Import library to split docs into tokens (word in this case)\n",
    "from nltk.tokenize import word_tokenize\n",
    "\n",
    "# Try on one example\n",
    "test_doc = indeed['job_descriptions'][2]\n",
    "test_doc_tokenized = word_tokenize(test_doc)\n",
    "print(\"Whole doc: \")\n",
    "print(test_doc[:150])\n",
    "print(\"\")\n",
    "print(\"Tokenized doc: \")\n",
    "print(test_doc_tokenized[:30])"
   ]
  },
  {
   "cell_type": "code",
   "execution_count": 26,
   "metadata": {},
   "outputs": [
    {
     "name": "stdout",
     "output_type": "stream",
     "text": [
      "1\n"
     ]
    }
   ],
   "source": [
    "# Check if some word exist in token list\n",
    "print(sum('bit.ly' in token for token in test_doc_tokenized))\n"
   ]
  },
  {
   "cell_type": "code",
   "execution_count": 27,
   "metadata": {},
   "outputs": [
    {
     "name": "stdout",
     "output_type": "stream",
     "text": [
      "Developed: develop\n"
     ]
    }
   ],
   "source": [
    "from nltk.stem import WordNetLemmatizer, PorterStemmer\n",
    "# Stemmer (get back original words by removing ending characters)\n",
    "stemmer = PorterStemmer()\n",
    "print(\"Developed: \" + stemmer.stem(\"Developed\"))\n"
   ]
  },
  {
   "cell_type": "code",
   "execution_count": 29,
   "metadata": {},
   "outputs": [
    {
     "name": "stdout",
     "output_type": "stream",
     "text": [
      "were: be\n"
     ]
    },
    {
     "name": "stderr",
     "output_type": "stream",
     "text": [
      "[nltk_data] Downloading package wordnet to\n",
      "[nltk_data]     C:\\Users\\57luu\\AppData\\Roaming\\nltk_data...\n",
      "[nltk_data]   Package wordnet is already up-to-date!\n"
     ]
    }
   ],
   "source": [
    "# Lemmatizer  (get back original words)\n",
    "nltk.download('wordnet')\n",
    "lemmatizer = WordNetLemmatizer()\n",
    "print(\"were: \" + lemmatizer.lemmatize(\"were\", pos=\"v\"))"
   ]
  },
  {
   "cell_type": "code",
   "execution_count": 30,
   "metadata": {},
   "outputs": [
    {
     "name": "stdout",
     "output_type": "stream",
     "text": [
      "Word count before stemming: 335\n",
      "Word count after stemming: 303\n"
     ]
    }
   ],
   "source": [
    "# Compare word count before and after stemming\n",
    "from collections import Counter\n",
    "tokens = word_tokenize(test_doc)\n",
    "stemmed_tokens = [stemmer.stem(token) for token in tokens]\n",
    "count_after_stem = len(Counter(stemmed_tokens))\n",
    "count_before_stem = len(set(tokens))\n",
    "print(\"Word count before stemming: \" + str(count_before_stem))\n",
    "print(\"Word count after stemming: \" + str(count_after_stem))\n"
   ]
  },
  {
   "cell_type": "code",
   "execution_count": 32,
   "metadata": {},
   "outputs": [
    {
     "name": "stdout",
     "output_type": "stream",
     "text": [
      "Word count after stemming + stopwords: 255\n"
     ]
    },
    {
     "name": "stderr",
     "output_type": "stream",
     "text": [
      "[nltk_data] Downloading package stopwords to\n",
      "[nltk_data]     C:\\Users\\57luu\\AppData\\Roaming\\nltk_data...\n",
      "[nltk_data]   Package stopwords is already up-to-date!\n"
     ]
    }
   ],
   "source": [
    "# Remove stop words (e.g. the, is, etc.)\n",
    "from nltk.corpus import stopwords\n",
    "nltk.download('stopwords')\n",
    "en_sw = set(stopwords.words('english'))\n",
    "tokens = word_tokenize(test_doc.lower())\n",
    "stemmed_tokens = [stemmer.stem(token)\n",
    "                  for token in tokens\n",
    "                  if token not in en_sw]\n",
    "token_cnt = Counter(stemmed_tokens)\n",
    "print(\"Word count after stemming + stopwords: \" + str(len(token_cnt)))\n"
   ]
  },
  {
   "cell_type": "code",
   "execution_count": 33,
   "metadata": {},
   "outputs": [],
   "source": [
    "# Manual extract bag of words with stemming and stopword\n",
    "import json\n",
    "from collections import Counter\n",
    "\n",
    "import pandas as pd\n",
    "from nltk.tokenize import word_tokenize\n",
    "from nltk.stem import PorterStemmer\n",
    "from nltk.corpus import stopwords\n",
    "\n",
    "# Count the words\n",
    "en_sw = set(stopwords.words('english'))\n",
    "stemmer = PorterStemmer()\n",
    "tok_cnts = []\n",
    "for jd in indeed[\"job_descriptions\"]:\n",
    "    tokens = word_tokenize(jd.lower())    \n",
    "    tokens = [stemmer.stem(token) for token in tokens if token not in en_sw]\n",
    "    tok_cnts.append(Counter(tokens))\n",
    "\n",
    "# Convert to panda data type    \n",
    "freq_panda = pd.DataFrame(tok_cnts)\n",
    "freq_mat = freq_panda.values"
   ]
  },
  {
   "cell_type": "code",
   "execution_count": 34,
   "metadata": {},
   "outputs": [
    {
     "name": "stdout",
     "output_type": "stream",
     "text": [
      "<class 'pandas.core.frame.DataFrame'>\n",
      "RangeIndex: 79 entries, 0 to 78\n",
      "Columns: 3205 entries, ! to ﬁnding\n",
      "dtypes: float64(3205)\n",
      "memory usage: 1.9 MB\n",
      "None\n"
     ]
    },
    {
     "data": {
      "text/html": [
       "<div>\n",
       "<style scoped>\n",
       "    .dataframe tbody tr th:only-of-type {\n",
       "        vertical-align: middle;\n",
       "    }\n",
       "\n",
       "    .dataframe tbody tr th {\n",
       "        vertical-align: top;\n",
       "    }\n",
       "\n",
       "    .dataframe thead th {\n",
       "        text-align: right;\n",
       "    }\n",
       "</style>\n",
       "<table border=\"1\" class=\"dataframe\">\n",
       "  <thead>\n",
       "    <tr style=\"text-align: right;\">\n",
       "      <th></th>\n",
       "      <th>!</th>\n",
       "      <th>#</th>\n",
       "      <th>$</th>\n",
       "      <th>%</th>\n",
       "      <th>&amp;</th>\n",
       "      <th>'</th>\n",
       "      <th>''</th>\n",
       "      <th>'d</th>\n",
       "      <th>'ll</th>\n",
       "      <th>'re</th>\n",
       "      <th>...</th>\n",
       "      <th>·</th>\n",
       "      <th>–</th>\n",
       "      <th>—</th>\n",
       "      <th>’</th>\n",
       "      <th>“</th>\n",
       "      <th>”</th>\n",
       "      <th>…</th>\n",
       "      <th>ﬁeld</th>\n",
       "      <th>ﬁnd</th>\n",
       "      <th>ﬁnding</th>\n",
       "    </tr>\n",
       "  </thead>\n",
       "  <tbody>\n",
       "    <tr>\n",
       "      <th>0</th>\n",
       "      <td>1.0</td>\n",
       "      <td>1.0</td>\n",
       "      <td>1.0</td>\n",
       "      <td>NaN</td>\n",
       "      <td>NaN</td>\n",
       "      <td>NaN</td>\n",
       "      <td>NaN</td>\n",
       "      <td>NaN</td>\n",
       "      <td>NaN</td>\n",
       "      <td>NaN</td>\n",
       "      <td>...</td>\n",
       "      <td>NaN</td>\n",
       "      <td>NaN</td>\n",
       "      <td>2.0</td>\n",
       "      <td>4.0</td>\n",
       "      <td>NaN</td>\n",
       "      <td>NaN</td>\n",
       "      <td>NaN</td>\n",
       "      <td>NaN</td>\n",
       "      <td>NaN</td>\n",
       "      <td>NaN</td>\n",
       "    </tr>\n",
       "    <tr>\n",
       "      <th>1</th>\n",
       "      <td>NaN</td>\n",
       "      <td>NaN</td>\n",
       "      <td>NaN</td>\n",
       "      <td>NaN</td>\n",
       "      <td>1.0</td>\n",
       "      <td>NaN</td>\n",
       "      <td>NaN</td>\n",
       "      <td>NaN</td>\n",
       "      <td>NaN</td>\n",
       "      <td>NaN</td>\n",
       "      <td>...</td>\n",
       "      <td>NaN</td>\n",
       "      <td>NaN</td>\n",
       "      <td>2.0</td>\n",
       "      <td>5.0</td>\n",
       "      <td>NaN</td>\n",
       "      <td>NaN</td>\n",
       "      <td>NaN</td>\n",
       "      <td>NaN</td>\n",
       "      <td>NaN</td>\n",
       "      <td>NaN</td>\n",
       "    </tr>\n",
       "    <tr>\n",
       "      <th>2</th>\n",
       "      <td>2.0</td>\n",
       "      <td>NaN</td>\n",
       "      <td>1.0</td>\n",
       "      <td>1.0</td>\n",
       "      <td>NaN</td>\n",
       "      <td>NaN</td>\n",
       "      <td>NaN</td>\n",
       "      <td>NaN</td>\n",
       "      <td>NaN</td>\n",
       "      <td>NaN</td>\n",
       "      <td>...</td>\n",
       "      <td>NaN</td>\n",
       "      <td>NaN</td>\n",
       "      <td>NaN</td>\n",
       "      <td>5.0</td>\n",
       "      <td>NaN</td>\n",
       "      <td>NaN</td>\n",
       "      <td>NaN</td>\n",
       "      <td>NaN</td>\n",
       "      <td>NaN</td>\n",
       "      <td>NaN</td>\n",
       "    </tr>\n",
       "  </tbody>\n",
       "</table>\n",
       "<p>3 rows × 3205 columns</p>\n",
       "</div>"
      ],
      "text/plain": [
       "     !    #    $    %    &   '  ''  'd  'll  're  ...   ·   –    —    ’   “  \\\n",
       "0  1.0  1.0  1.0  NaN  NaN NaN NaN NaN  NaN  NaN  ... NaN NaN  2.0  4.0 NaN   \n",
       "1  NaN  NaN  NaN  NaN  1.0 NaN NaN NaN  NaN  NaN  ... NaN NaN  2.0  5.0 NaN   \n",
       "2  2.0  NaN  1.0  1.0  NaN NaN NaN NaN  NaN  NaN  ... NaN NaN  NaN  5.0 NaN   \n",
       "\n",
       "    ”   …  ﬁeld  ﬁnd  ﬁnding  \n",
       "0 NaN NaN   NaN  NaN     NaN  \n",
       "1 NaN NaN   NaN  NaN     NaN  \n",
       "2 NaN NaN   NaN  NaN     NaN  \n",
       "\n",
       "[3 rows x 3205 columns]"
      ]
     },
     "execution_count": 34,
     "metadata": {},
     "output_type": "execute_result"
    }
   ],
   "source": [
    "# Get some info\n",
    "print(freq_panda.info())\n",
    "freq_panda.head(3)"
   ]
  },
  {
   "cell_type": "code",
   "execution_count": 35,
   "metadata": {},
   "outputs": [
    {
     "data": {
      "text/html": [
       "<div>\n",
       "<style scoped>\n",
       "    .dataframe tbody tr th:only-of-type {\n",
       "        vertical-align: middle;\n",
       "    }\n",
       "\n",
       "    .dataframe tbody tr th {\n",
       "        vertical-align: top;\n",
       "    }\n",
       "\n",
       "    .dataframe thead th {\n",
       "        text-align: right;\n",
       "    }\n",
       "</style>\n",
       "<table border=\"1\" class=\"dataframe\">\n",
       "  <thead>\n",
       "    <tr style=\"text-align: right;\">\n",
       "      <th></th>\n",
       "      <th>!</th>\n",
       "      <th>#</th>\n",
       "      <th>$</th>\n",
       "      <th>%</th>\n",
       "      <th>&amp;</th>\n",
       "      <th>'</th>\n",
       "      <th>''</th>\n",
       "      <th>'d</th>\n",
       "      <th>'ll</th>\n",
       "      <th>'re</th>\n",
       "      <th>...</th>\n",
       "      <th>·</th>\n",
       "      <th>–</th>\n",
       "      <th>—</th>\n",
       "      <th>’</th>\n",
       "      <th>“</th>\n",
       "      <th>”</th>\n",
       "      <th>…</th>\n",
       "      <th>ﬁeld</th>\n",
       "      <th>ﬁnd</th>\n",
       "      <th>ﬁnding</th>\n",
       "    </tr>\n",
       "  </thead>\n",
       "  <tbody>\n",
       "    <tr>\n",
       "      <th>0</th>\n",
       "      <td>1.0</td>\n",
       "      <td>1.0</td>\n",
       "      <td>1.0</td>\n",
       "      <td>0.0</td>\n",
       "      <td>0.0</td>\n",
       "      <td>0.0</td>\n",
       "      <td>0.0</td>\n",
       "      <td>0.0</td>\n",
       "      <td>0.0</td>\n",
       "      <td>0.0</td>\n",
       "      <td>...</td>\n",
       "      <td>0.0</td>\n",
       "      <td>0.0</td>\n",
       "      <td>2.0</td>\n",
       "      <td>4.0</td>\n",
       "      <td>0.0</td>\n",
       "      <td>0.0</td>\n",
       "      <td>0.0</td>\n",
       "      <td>0.0</td>\n",
       "      <td>0.0</td>\n",
       "      <td>0.0</td>\n",
       "    </tr>\n",
       "    <tr>\n",
       "      <th>1</th>\n",
       "      <td>0.0</td>\n",
       "      <td>0.0</td>\n",
       "      <td>0.0</td>\n",
       "      <td>0.0</td>\n",
       "      <td>1.0</td>\n",
       "      <td>0.0</td>\n",
       "      <td>0.0</td>\n",
       "      <td>0.0</td>\n",
       "      <td>0.0</td>\n",
       "      <td>0.0</td>\n",
       "      <td>...</td>\n",
       "      <td>0.0</td>\n",
       "      <td>0.0</td>\n",
       "      <td>2.0</td>\n",
       "      <td>5.0</td>\n",
       "      <td>0.0</td>\n",
       "      <td>0.0</td>\n",
       "      <td>0.0</td>\n",
       "      <td>0.0</td>\n",
       "      <td>0.0</td>\n",
       "      <td>0.0</td>\n",
       "    </tr>\n",
       "    <tr>\n",
       "      <th>2</th>\n",
       "      <td>2.0</td>\n",
       "      <td>0.0</td>\n",
       "      <td>1.0</td>\n",
       "      <td>1.0</td>\n",
       "      <td>0.0</td>\n",
       "      <td>0.0</td>\n",
       "      <td>0.0</td>\n",
       "      <td>0.0</td>\n",
       "      <td>0.0</td>\n",
       "      <td>0.0</td>\n",
       "      <td>...</td>\n",
       "      <td>0.0</td>\n",
       "      <td>0.0</td>\n",
       "      <td>0.0</td>\n",
       "      <td>5.0</td>\n",
       "      <td>0.0</td>\n",
       "      <td>0.0</td>\n",
       "      <td>0.0</td>\n",
       "      <td>0.0</td>\n",
       "      <td>0.0</td>\n",
       "      <td>0.0</td>\n",
       "    </tr>\n",
       "  </tbody>\n",
       "</table>\n",
       "<p>3 rows × 3205 columns</p>\n",
       "</div>"
      ],
      "text/plain": [
       "     !    #    $    %    &    '   ''   'd  'll  're  ...    ·    –    —    ’  \\\n",
       "0  1.0  1.0  1.0  0.0  0.0  0.0  0.0  0.0  0.0  0.0  ...  0.0  0.0  2.0  4.0   \n",
       "1  0.0  0.0  0.0  0.0  1.0  0.0  0.0  0.0  0.0  0.0  ...  0.0  0.0  2.0  5.0   \n",
       "2  2.0  0.0  1.0  1.0  0.0  0.0  0.0  0.0  0.0  0.0  ...  0.0  0.0  0.0  5.0   \n",
       "\n",
       "     “    ”    …  ﬁeld  ﬁnd  ﬁnding  \n",
       "0  0.0  0.0  0.0   0.0  0.0     0.0  \n",
       "1  0.0  0.0  0.0   0.0  0.0     0.0  \n",
       "2  0.0  0.0  0.0   0.0  0.0     0.0  \n",
       "\n",
       "[3 rows x 3205 columns]"
      ]
     },
     "execution_count": 35,
     "metadata": {},
     "output_type": "execute_result"
    }
   ],
   "source": [
    "# Replace nan values\n",
    "freq_panda.fillna(value=0, inplace=True)\n",
    "freq_panda.head(3)"
   ]
  },
  {
   "cell_type": "code",
   "execution_count": 36,
   "metadata": {},
   "outputs": [],
   "source": [
    "# Built-in from sklearn (no stop word, no stemming)\n",
    "from sklearn.feature_extraction.text import CountVectorizer\n",
    "\n",
    "vectorizer = CountVectorizer()\n",
    "bow_skl = vectorizer.fit_transform(indeed['job_descriptions'])\n",
    "\n",
    "tokens_skl = vectorizer.get_feature_names()\n",
    "freq_skl = bow_skl.toarray()"
   ]
  },
  {
   "cell_type": "code",
   "execution_count": 37,
   "metadata": {},
   "outputs": [
    {
     "data": {
      "text/plain": [
       "(79, 4169)"
      ]
     },
     "execution_count": 37,
     "metadata": {},
     "output_type": "execute_result"
    }
   ],
   "source": [
    "# Check the result of built-in function (does not match 4169 vs. 3205)\n",
    "freq_skl.shape"
   ]
  },
  {
   "cell_type": "code",
   "execution_count": 38,
   "metadata": {},
   "outputs": [
    {
     "name": "stderr",
     "output_type": "stream",
     "text": [
      "C:\\Users\\57luu\\Anaconda3\\lib\\site-packages\\sklearn\\feature_extraction\\text.py:300: UserWarning: Your stop_words may be inconsistent with your preprocessing. Tokenizing the stop words generated tokens [\"'d\", \"'ll\", \"'re\", \"'s\", \"'ve\", 'could', 'might', 'must', \"n't\", 'need', 'sha', 'wo', 'would'] not in stop_words.\n",
      "  'stop_words.' % sorted(inconsistent))\n"
     ]
    }
   ],
   "source": [
    "# Add stop word, tokenizer and stemming to the built-in\n",
    "vectorizer = CountVectorizer(stop_words=en_sw, tokenizer=word_tokenize)\n",
    "analyzer = vectorizer.build_analyzer()\n",
    "\n",
    "def stem_analyzer(doc):\n",
    "    return [stemmer.stem(w) for w in analyzer(doc)]\n",
    "\n",
    "stem_vectorizer = CountVectorizer(analyzer=stem_analyzer)\n",
    "bow_skl = stem_vectorizer.fit_transform(indeed[\"job_descriptions\"])\n",
    "freq_skl = bow_skl.toarray()\n",
    "feature_name = stem_vectorizer.get_feature_names()"
   ]
  },
  {
   "cell_type": "code",
   "execution_count": 39,
   "metadata": {},
   "outputs": [
    {
     "data": {
      "text/plain": [
       "0.0"
      ]
     },
     "execution_count": 39,
     "metadata": {},
     "output_type": "execute_result"
    }
   ],
   "source": [
    "# Check if the two are the same now\n",
    "import numpy as np\n",
    "np.nansum(np.abs((freq_mat - freq_skl)))"
   ]
  },
  {
   "cell_type": "code",
   "execution_count": 40,
   "metadata": {},
   "outputs": [],
   "source": [
    "#### Manual computation of TF-IDF\n",
    "bow = freq_panda\n",
    "tf = bow.values\n",
    "N = bow.shape[0]\n",
    "idf_df = bow.apply(lambda x: pd.np.log(N / (1 + sum(x > 0))), axis=0)\n",
    "\n",
    "# Manipulate the shape for broadcasting\n",
    "idf = idf_df.values.reshape((1, -1))\n",
    "tfidf_manual = pd.DataFrame(tf * idf, columns=bow.columns)"
   ]
  },
  {
   "cell_type": "code",
   "execution_count": 41,
   "metadata": {},
   "outputs": [],
   "source": [
    "#### Built-in sklearn computation of TF-IDF\n",
    "from sklearn.feature_extraction.text import TfidfVectorizer\n",
    "\n",
    "tfidf_vectorizer = TfidfVectorizer(analyzer=stem_analyzer)\n",
    "tfidf_skl = tfidf_vectorizer.fit_transform(indeed['job_descriptions'])\n",
    "tfidf_sklearn = tfidf_skl.toarray()\n",
    "tokens = tfidf_vectorizer.get_feature_names()"
   ]
  },
  {
   "cell_type": "code",
   "execution_count": 206,
   "metadata": {},
   "outputs": [
    {
     "data": {
      "text/plain": [
       "39548.529000140916"
      ]
     },
     "execution_count": 206,
     "metadata": {},
     "output_type": "execute_result"
    }
   ],
   "source": [
    "# Check any difference (YES)\n",
    "np.nansum(np.abs((tfidf_manual.values - tfidf_sklearn)))"
   ]
  },
  {
   "cell_type": "code",
   "execution_count": 136,
   "metadata": {},
   "outputs": [
    {
     "data": {
      "text/plain": [
       "array([1.53623451, 1.8845412 , 2.06686276,        nan,        nan,\n",
       "              nan,        nan,        nan,        nan,        nan])"
      ]
     },
     "execution_count": 136,
     "metadata": {},
     "output_type": "execute_result"
    }
   ],
   "source": [
    "tfidf_manual.values[0, :10]"
   ]
  },
  {
   "cell_type": "code",
   "execution_count": 138,
   "metadata": {},
   "outputs": [
    {
     "data": {
      "text/plain": [
       "array([0.02575363, 0.02927297, 0.03111518, 0.        , 0.        ,\n",
       "       0.        , 0.        , 0.        , 0.        , 0.        ])"
      ]
     },
     "execution_count": 138,
     "metadata": {},
     "output_type": "execute_result"
    }
   ],
   "source": [
    "tfidf_sklearn[0, :10]"
   ]
  },
  {
   "cell_type": "code",
   "execution_count": 207,
   "metadata": {},
   "outputs": [],
   "source": [
    "#### Manual computation of TF-IDF (modified to match sklearn)\n",
    "bow = freq_panda\n",
    "tf = bow.values\n",
    "N = bow.shape[0]\n",
    "idf_df = bow.apply(lambda x: pd.np.log((1 + N) / (1 + sum(x > 0))) + 1, axis=0)\n",
    "\n",
    "# Manipulate the shape for broadcasting\n",
    "idf = idf_df.values.reshape((1, -1))\n",
    "tfidf_manual_new = pd.DataFrame(tf * idf, columns=bow.columns)\n",
    "tfidf_manual_new.fillna(value=0, inplace=True )\n"
   ]
  },
  {
   "cell_type": "code",
   "execution_count": 208,
   "metadata": {},
   "outputs": [
    {
     "data": {
      "text/html": [
       "<div>\n",
       "<style scoped>\n",
       "    .dataframe tbody tr th:only-of-type {\n",
       "        vertical-align: middle;\n",
       "    }\n",
       "\n",
       "    .dataframe tbody tr th {\n",
       "        vertical-align: top;\n",
       "    }\n",
       "\n",
       "    .dataframe thead th {\n",
       "        text-align: right;\n",
       "    }\n",
       "</style>\n",
       "<table border=\"1\" class=\"dataframe\">\n",
       "  <thead>\n",
       "    <tr style=\"text-align: right;\">\n",
       "      <th></th>\n",
       "      <th>!</th>\n",
       "      <th>#</th>\n",
       "      <th>$</th>\n",
       "      <th>%</th>\n",
       "      <th>&amp;</th>\n",
       "      <th>'</th>\n",
       "      <th>''</th>\n",
       "      <th>'d</th>\n",
       "      <th>'ll</th>\n",
       "      <th>'re</th>\n",
       "      <th>...</th>\n",
       "      <th>·</th>\n",
       "      <th>–</th>\n",
       "      <th>—</th>\n",
       "      <th>’</th>\n",
       "      <th>“</th>\n",
       "      <th>”</th>\n",
       "      <th>…</th>\n",
       "      <th>ﬁeld</th>\n",
       "      <th>ﬁnd</th>\n",
       "      <th>ﬁnding</th>\n",
       "    </tr>\n",
       "  </thead>\n",
       "  <tbody>\n",
       "    <tr>\n",
       "      <th>0</th>\n",
       "      <td>0.025754</td>\n",
       "      <td>0.029273</td>\n",
       "      <td>0.031115</td>\n",
       "      <td>0.000000</td>\n",
       "      <td>0.000000</td>\n",
       "      <td>0.0</td>\n",
       "      <td>0.0</td>\n",
       "      <td>0.0</td>\n",
       "      <td>0.0</td>\n",
       "      <td>0.0</td>\n",
       "      <td>...</td>\n",
       "      <td>0.0</td>\n",
       "      <td>0.0</td>\n",
       "      <td>0.066740</td>\n",
       "      <td>0.056302</td>\n",
       "      <td>0.0</td>\n",
       "      <td>0.0</td>\n",
       "      <td>0.0</td>\n",
       "      <td>0.0</td>\n",
       "      <td>0.0</td>\n",
       "      <td>0.0</td>\n",
       "    </tr>\n",
       "    <tr>\n",
       "      <th>1</th>\n",
       "      <td>0.000000</td>\n",
       "      <td>0.000000</td>\n",
       "      <td>0.000000</td>\n",
       "      <td>0.000000</td>\n",
       "      <td>0.018902</td>\n",
       "      <td>0.0</td>\n",
       "      <td>0.0</td>\n",
       "      <td>0.0</td>\n",
       "      <td>0.0</td>\n",
       "      <td>0.0</td>\n",
       "      <td>...</td>\n",
       "      <td>0.0</td>\n",
       "      <td>0.0</td>\n",
       "      <td>0.072651</td>\n",
       "      <td>0.076611</td>\n",
       "      <td>0.0</td>\n",
       "      <td>0.0</td>\n",
       "      <td>0.0</td>\n",
       "      <td>0.0</td>\n",
       "      <td>0.0</td>\n",
       "      <td>0.0</td>\n",
       "    </tr>\n",
       "    <tr>\n",
       "      <th>2</th>\n",
       "      <td>0.063256</td>\n",
       "      <td>0.000000</td>\n",
       "      <td>0.038212</td>\n",
       "      <td>0.044551</td>\n",
       "      <td>0.000000</td>\n",
       "      <td>0.0</td>\n",
       "      <td>0.0</td>\n",
       "      <td>0.0</td>\n",
       "      <td>0.0</td>\n",
       "      <td>0.0</td>\n",
       "      <td>...</td>\n",
       "      <td>0.0</td>\n",
       "      <td>0.0</td>\n",
       "      <td>0.000000</td>\n",
       "      <td>0.086431</td>\n",
       "      <td>0.0</td>\n",
       "      <td>0.0</td>\n",
       "      <td>0.0</td>\n",
       "      <td>0.0</td>\n",
       "      <td>0.0</td>\n",
       "      <td>0.0</td>\n",
       "    </tr>\n",
       "  </tbody>\n",
       "</table>\n",
       "<p>3 rows × 3205 columns</p>\n",
       "</div>"
      ],
      "text/plain": [
       "          !         #         $         %         &    '   ''   'd  'll  're  \\\n",
       "0  0.025754  0.029273  0.031115  0.000000  0.000000  0.0  0.0  0.0  0.0  0.0   \n",
       "1  0.000000  0.000000  0.000000  0.000000  0.018902  0.0  0.0  0.0  0.0  0.0   \n",
       "2  0.063256  0.000000  0.038212  0.044551  0.000000  0.0  0.0  0.0  0.0  0.0   \n",
       "\n",
       "   ...    ·    –         —         ’    “    ”    …  ﬁeld  ﬁnd  ﬁnding  \n",
       "0  ...  0.0  0.0  0.066740  0.056302  0.0  0.0  0.0   0.0  0.0     0.0  \n",
       "1  ...  0.0  0.0  0.072651  0.076611  0.0  0.0  0.0   0.0  0.0     0.0  \n",
       "2  ...  0.0  0.0  0.000000  0.086431  0.0  0.0  0.0   0.0  0.0     0.0  \n",
       "\n",
       "[3 rows x 3205 columns]"
      ]
     },
     "execution_count": 208,
     "metadata": {},
     "output_type": "execute_result"
    }
   ],
   "source": [
    "tfidf_manual_new = tfidf_manual_new.apply(lambda x: x / pd.np.sqrt(sum(x**2)), axis=1)\n",
    "tfidf_manual_new.head(3)"
   ]
  },
  {
   "cell_type": "code",
   "execution_count": 209,
   "metadata": {},
   "outputs": [
    {
     "data": {
      "text/plain": [
       "3.0014185581350716e-13"
      ]
     },
     "execution_count": 209,
     "metadata": {},
     "output_type": "execute_result"
    }
   ],
   "source": [
    "np.nansum(np.abs((tfidf_manual_new.values - tfidf_sklearn)))"
   ]
  },
  {
   "cell_type": "code",
   "execution_count": 240,
   "metadata": {},
   "outputs": [
    {
     "name": "stdout",
     "output_type": "stream",
     "text": [
      "['build', 'engin', 'knowledg', 'analysi', 'skill', 'year', 'scienc', 'develop', 'compani', ';', 'machin', 'use', 'requir', 'analyt', 'product', 'statist', 'model', 'team', '’', 'busi', 'learn', '--', 'work', ')', '(', 'experi', ':', 'data', '.', ',']\n"
     ]
    }
   ],
   "source": [
    "# Check the top words using tf-idf\n",
    "import numpy as np\n",
    "word_name = tokens\n",
    "word_tfidf = np.sum(tfidf_sklearn, axis=0)\n",
    "index_sort = np.argsort(word_tfidf)\n",
    "top_word = [word_name[ind] for ind in index_sort[-30:]]\n",
    "print(top_word)"
   ]
  },
  {
   "cell_type": "code",
   "execution_count": 241,
   "metadata": {},
   "outputs": [
    {
     "name": "stdout",
     "output_type": "stream",
     "text": [
      "['scientist', 'machin', 'help', 'commun', 'year', ';', 'requir', 'skill', 'new', 'compani', 'develop', 'use', 'scienc', '--', 'analyt', 'model', 'product', 'statist', '’', 'learn', 'team', 'busi', ')', '(', 'work', 'experi', ':', 'data', '.', ',']\n"
     ]
    }
   ],
   "source": [
    "# Check the top words using frequency\n",
    "import numpy as np\n",
    "word_name = list(freq_panda)\n",
    "word_count = np.sum(freq_mat, axis=0)\n",
    "index_sort = np.argsort(word_count)\n",
    "top_word = [word_name[ind] for ind in index_sort[-30:]]\n",
    "print(top_word)"
   ]
  },
  {
   "cell_type": "code",
   "execution_count": 242,
   "metadata": {},
   "outputs": [],
   "source": [
    "################################################## Try larger dataset ##################################################\n",
    "data_folder = os.path.join(os.getcwd(), \"data\", \"job_descriptions\", \"indeed_jds_by_doc.json\")\n",
    "indeed = json.load(open(data_folder, \"r\"))"
   ]
  },
  {
   "cell_type": "code",
   "execution_count": 243,
   "metadata": {},
   "outputs": [],
   "source": [
    "from sklearn.feature_extraction.text import TfidfVectorizer\n",
    "\n",
    "tfidf_vectorizer = TfidfVectorizer(analyzer=stem_analyzer)\n",
    "tfidf_skl = tfidf_vectorizer.fit_transform(indeed['job_descriptions'])\n",
    "tokens = tfidf_vectorizer.get_feature_names()"
   ]
  },
  {
   "cell_type": "code",
   "execution_count": 245,
   "metadata": {},
   "outputs": [],
   "source": [
    "tfidf_norm = pd.DataFrame(tfidf_skl.toarray(), columns=tokens)\n",
    "avg_tfidf = tfidf_norm.apply(pd.np.mean, 0)"
   ]
  },
  {
   "cell_type": "code",
   "execution_count": 250,
   "metadata": {},
   "outputs": [
    {
     "data": {
      "text/plain": [
       "Index([',', '.', ':', 'data', 'work', 'experi', ')', '(', 'manag', 'team',\n",
       "       'product', 'develop', 'design', '’', 'busi', 'requir', '--', 'engin',\n",
       "       ';', 'year', 'skill', 'new', 'includ', 'project', 'compani', 'test',\n",
       "       'commun', 'build', 'applic', 'market', 'servic', 'client', 'support',\n",
       "       'process', 'system', 'abil', 'program', 'use', 'research', 'sale', '$',\n",
       "       'provid', 'job', '&', 'help', 'respons', 'custom', 'opportun', 'prefer',\n",
       "       'candid'],\n",
       "      dtype='object')"
      ]
     },
     "execution_count": 250,
     "metadata": {},
     "output_type": "execute_result"
    }
   ],
   "source": [
    "# Select the top terms\n",
    "top_terms = avg_tfidf.sort_values(ascending=False)[:200].index\n",
    "top_tfidf = tfidf_norm[top_terms]\n",
    "top_terms[:50]"
   ]
  },
  {
   "cell_type": "code",
   "execution_count": 255,
   "metadata": {},
   "outputs": [],
   "source": [
    "# Cluster using t-SNE\n",
    "from sklearn.manifold import TSNE\n",
    "import matplotlib.pyplot as plt\n",
    "\n",
    "red_tfidf = TSNE(n_components=2).fit_transform(top_tfidf)\n"
   ]
  },
  {
   "cell_type": "code",
   "execution_count": 263,
   "metadata": {},
   "outputs": [
    {
     "data": {
      "image/png": "[encoded data removed]",
      "text/plain": [
       "<Figure size 720x720 with 1 Axes>"
      ]
     },
     "metadata": {
      "needs_background": "light"
     },
     "output_type": "display_data"
    }
   ],
   "source": [
    "# Visualization\n",
    "colors = ['red', 'blue', 'black']\n",
    "subplots = []\n",
    "titles = []\n",
    "job_titles = ['program+manager', 'human+resource+specialist', 'data+scientist']\n",
    "plt.figure(figsize = (10, 10))\n",
    "for title in job_titles:\n",
    "    subset = [label == title for label in indeed['labels']]\n",
    "    subplots.append(\n",
    "      plt.scatter(red_tfidf[subset, 0],\n",
    "                  red_tfidf[subset, 1],\n",
    "                  color=colors.pop(),\n",
    "                  s=10, alpha=0.5))\n",
    "    titles.append(title)\n",
    "    plt.legend([subplot for subplot in subplots],\n",
    "               titles)\n",
    "\n",
    "# Save the different methods into different plots\n",
    "plt.show()\n"
   ]
  },
  {
   "cell_type": "code",
   "execution_count": 256,
   "metadata": {},
   "outputs": [
    {
     "data": {
      "text/plain": [
       "{'business+analyst',\n",
       " 'data+analyst',\n",
       " 'data+architect',\n",
       " 'data+engineer',\n",
       " 'data+science+manager',\n",
       " 'data+scientist',\n",
       " 'engineering+manager',\n",
       " 'frontend+developer',\n",
       " 'fullstack+engineer',\n",
       " 'human+resource+specialist',\n",
       " 'machine+learning+engineer',\n",
       " 'marketing',\n",
       " 'office+manager',\n",
       " 'product+designer',\n",
       " 'product+manager',\n",
       " 'program+manager',\n",
       " 'recruiter',\n",
       " 'research',\n",
       " 'sales',\n",
       " 'scientist',\n",
       " 'site+reliability+engineer',\n",
       " 'software+developer',\n",
       " 'statistician',\n",
       " 'talent+management',\n",
       " 'technician',\n",
       " 'test+engineer',\n",
       " 'ux+designer'}"
      ]
     },
     "execution_count": 256,
     "metadata": {},
     "output_type": "execute_result"
    }
   ],
   "source": [
    "# List of jobs\n",
    "set(indeed['labels'])"
   ]
  }
 ],
 "metadata": {
  "kernelspec": {
   "display_name": "Python 3",
   "language": "python",
   "name": "python3"
  },
  "language_info": {
   "codemirror_mode": {
    "name": "ipython",
    "version": 3
   },
   "file_extension": ".py",
   "mimetype": "text/x-python",
   "name": "python",
   "nbconvert_exporter": "python",
   "pygments_lexer": "ipython3",
   "version": "3.7.3"
  }
 },
 "nbformat": 4,
 "nbformat_minor": 2
}
